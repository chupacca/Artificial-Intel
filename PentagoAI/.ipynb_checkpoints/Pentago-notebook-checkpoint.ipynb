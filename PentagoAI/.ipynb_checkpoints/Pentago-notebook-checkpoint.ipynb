{
 "cells": [
  {
   "cell_type": "code",
   "execution_count": 105,
   "metadata": {},
   "outputs": [],
   "source": [
    "import numpy as np"
   ]
  },
  {
   "cell_type": "code",
   "execution_count": 106,
   "metadata": {},
   "outputs": [],
   "source": [
    "m = initialBoard = np.matrix([['_', '_', '_'],['_', '_', '_'],['_', '_', '_']])\n",
    "b = np.array([initialBoard,initialBoard,initialBoard,initialBoard])"
   ]
  },
  {
   "cell_type": "code",
   "execution_count": 113,
   "metadata": {},
   "outputs": [
    {
     "name": "stdout",
     "output_type": "stream",
     "text": [
      "('@', '%')\n",
      "_ _ _ | _ _ _\n",
      "_ _ _ | _ _ _\n",
      "_ _ _ | _ _ _\n",
      "--------------\n",
      "_ _ _ | _ _ _\n",
      "_ _ _ | _ _ _\n",
      "_ _ _ | _ _ _\n",
      "--------------\n"
     ]
    }
   ],
   "source": [
    "print(\"--------------\")\n",
    "for bN in range(0, 2):\n",
    "    for r in range(0, 3):\n",
    "        leftBoardRow = '|' + b[bN][r][0] + ' ' + b[bN][r][1] + ' ' + b[bN][r][2]\n",
    "        rightBoardRow = b[bN + 1][0][0] + ' ' + b[bN + 1][1][1] + ' ' + b[bN + 1][r][2] + '|'\n",
    "        print(leftBoardRow + ' | ' + rightBoardRow)\n",
    "    print(\"--------------\")"
   ]
  },
  {
   "cell_type": "code",
   "execution_count": 36,
   "metadata": {},
   "outputs": [
    {
     "data": {
      "text/plain": [
       "array([['g', 'd', 'a'],\n",
       "       ['h', 'e', 'b'],\n",
       "       ['i', 'f', 'c']],\n",
       "      dtype='|S1')"
      ]
     },
     "execution_count": 36,
     "metadata": {},
     "output_type": "execute_result"
    }
   ],
   "source": [
    "np.rot90(b, k = 3) #rotate right"
   ]
  },
  {
   "cell_type": "code",
   "execution_count": 26,
   "metadata": {},
   "outputs": [
    {
     "data": {
      "text/plain": [
       "chararray([['', '', ''],\n",
       "           ['', '', ''],\n",
       "           ['', '', '']],\n",
       "          dtype='|S1')"
      ]
     },
     "execution_count": 26,
     "metadata": {},
     "output_type": "execute_result"
    }
   ],
   "source": [
    "np.rot90(b, k = 1) #rotate left"
   ]
  },
  {
   "cell_type": "code",
   "execution_count": 86,
   "metadata": {},
   "outputs": [
    {
     "ename": "SyntaxError",
     "evalue": "invalid syntax (<ipython-input-86-f939166e4c75>, line 15)",
     "output_type": "error",
     "traceback": [
      "\u001b[0;36m  File \u001b[0;32m\"<ipython-input-86-f939166e4c75>\"\u001b[0;36m, line \u001b[0;32m15\u001b[0m\n\u001b[0;31m    for bN in range(0, 2):\u001b[0m\n\u001b[0m                         ^\u001b[0m\n\u001b[0;31mSyntaxError\u001b[0m\u001b[0;31m:\u001b[0m invalid syntax\n"
     ]
    }
   ],
   "source": [
    "class PentagoBoard(object):\n",
    "\n",
    "\tdef __init__(self):\n",
    "\t\tinitialBoard = np.matrix([['_', '_', '_'],['_', '_', '_'],['_', '_', '_']])\n",
    "\t\tself.board = np.array([initialBoard,initialBoard,initialBoard,initialBoard])\n",
    "\n",
    "\tdef rotateRight(self, borardNum):\n",
    "\t\tself.board[boardNum].rot90(b, k = 3)\n",
    "\n",
    "\tdef rotateLeftt(self, borardNum):\n",
    "\t\tself.board[boardNum].rot90(b, k = 1)\n",
    "\t\n",
    "\tdef printBoard(self):\n",
    "\t\tprint(type(board[0][0][0])\n",
    "\t\tfor bN in range(0, 2):\n",
    "\t\t\tfor i in range(0, 3):\n",
    "\t\t\t\tprint(\"%c %c %c | %c %c %c\", self.board[bN][0], self.board[bN][1], self.board[bN][2], self.board[bN + 1][0], self.board[bN + 1][1], self.board[bN + 1][2])"
   ]
  },
  {
   "cell_type": "code",
   "execution_count": 85,
   "metadata": {},
   "outputs": [
    {
     "name": "stdout",
     "output_type": "stream",
     "text": [
      " \n",
      "('%c %c %c | %c %c %c', array(['_', '_', '_'],\n",
      "      dtype='|S1'), array(['_', '_', '_'],\n",
      "      dtype='|S1'), array(['_', '_', '_'],\n",
      "      dtype='|S1'), array(['_', '_', '_'],\n",
      "      dtype='|S1'), array(['_', '_', '_'],\n",
      "      dtype='|S1'), array(['_', '_', '_'],\n",
      "      dtype='|S1'))\n",
      "('%c %c %c | %c %c %c', array(['_', '_', '_'],\n",
      "      dtype='|S1'), array(['_', '_', '_'],\n",
      "      dtype='|S1'), array(['_', '_', '_'],\n",
      "      dtype='|S1'), array(['_', '_', '_'],\n",
      "      dtype='|S1'), array(['_', '_', '_'],\n",
      "      dtype='|S1'), array(['_', '_', '_'],\n",
      "      dtype='|S1'))\n",
      "('%c %c %c | %c %c %c', array(['_', '_', '_'],\n",
      "      dtype='|S1'), array(['_', '_', '_'],\n",
      "      dtype='|S1'), array(['_', '_', '_'],\n",
      "      dtype='|S1'), array(['_', '_', '_'],\n",
      "      dtype='|S1'), array(['_', '_', '_'],\n",
      "      dtype='|S1'), array(['_', '_', '_'],\n",
      "      dtype='|S1'))\n",
      "('%c %c %c | %c %c %c', array(['_', '_', '_'],\n",
      "      dtype='|S1'), array(['_', '_', '_'],\n",
      "      dtype='|S1'), array(['_', '_', '_'],\n",
      "      dtype='|S1'), array(['_', '_', '_'],\n",
      "      dtype='|S1'), array(['_', '_', '_'],\n",
      "      dtype='|S1'), array(['_', '_', '_'],\n",
      "      dtype='|S1'))\n",
      "('%c %c %c | %c %c %c', array(['_', '_', '_'],\n",
      "      dtype='|S1'), array(['_', '_', '_'],\n",
      "      dtype='|S1'), array(['_', '_', '_'],\n",
      "      dtype='|S1'), array(['_', '_', '_'],\n",
      "      dtype='|S1'), array(['_', '_', '_'],\n",
      "      dtype='|S1'), array(['_', '_', '_'],\n",
      "      dtype='|S1'))\n",
      "('%c %c %c | %c %c %c', array(['_', '_', '_'],\n",
      "      dtype='|S1'), array(['_', '_', '_'],\n",
      "      dtype='|S1'), array(['_', '_', '_'],\n",
      "      dtype='|S1'), array(['_', '_', '_'],\n",
      "      dtype='|S1'), array(['_', '_', '_'],\n",
      "      dtype='|S1'), array(['_', '_', '_'],\n",
      "      dtype='|S1'))\n"
     ]
    }
   ],
   "source": [
    "#initialBoard = np.matrix([[' ', ' ', ' '],[' ', ' ', ' '],[' ', ' ', ' ']])\n",
    "#board = np.array([initialBoard,initialBoard,initialBoard,initialBoard])\n",
    "#board\n",
    "initB = PentagoBoard()\n",
    "initB.printBoard()"
   ]
  },
  {
   "cell_type": "code",
   "execution_count": null,
   "metadata": {},
   "outputs": [],
   "source": []
  }
 ],
 "metadata": {
  "kernelspec": {
   "display_name": "Python 2",
   "language": "python",
   "name": "python2"
  },
  "language_info": {
   "codemirror_mode": {
    "name": "ipython",
    "version": 2
   },
   "file_extension": ".py",
   "mimetype": "text/x-python",
   "name": "python",
   "nbconvert_exporter": "python",
   "pygments_lexer": "ipython2",
   "version": "2.7.12"
  }
 },
 "nbformat": 4,
 "nbformat_minor": 2
}
